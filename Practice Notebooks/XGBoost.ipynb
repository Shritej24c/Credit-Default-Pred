{
 "cells": [
  {
   "cell_type": "code",
   "execution_count": 3,
   "metadata": {
    "id": "jlWi0R627ieM",
    "pycharm": {
     "is_executing": true
    }
   },
   "outputs": [],
   "source": [
    "import pandas as pd\n",
    "import numpy as np"
   ]
  },
  {
   "cell_type": "markdown",
   "metadata": {
    "id": "IuqEjjy2C5KI"
   },
   "source": [
    "# In this project we will build a model to estimate current credit status of a customer. \n",
    "\n",
    "In most applications, we would like to *predict* probability of default for a customer in the future, but we don't have data for that."
   ]
  },
  {
   "cell_type": "code",
   "execution_count": 4,
   "metadata": {
    "colab": {
     "base_uri": "https://localhost:8080/"
    },
    "id": "AhZLUazmfIKC",
    "outputId": "2d9295fd-e45d-4670-c049-77faec22b03e",
    "pycharm": {
     "is_executing": true
    }
   },
   "outputs": [
    {
     "ename": "ModuleNotFoundError",
     "evalue": "No module named 'google.colab'",
     "output_type": "error",
     "traceback": [
      "\u001b[0;31m---------------------------------------------------------------------------\u001b[0m",
      "\u001b[0;31mModuleNotFoundError\u001b[0m                       Traceback (most recent call last)",
      "\u001b[0;32m<ipython-input-4-aff3b2ba9e0e>\u001b[0m in \u001b[0;36m<module>\u001b[0;34m\u001b[0m\n\u001b[1;32m      1\u001b[0m \u001b[0;31m# this is to read data on Google Drive\u001b[0m\u001b[0;34m\u001b[0m\u001b[0;34m\u001b[0m\u001b[0;34m\u001b[0m\u001b[0m\n\u001b[0;32m----> 2\u001b[0;31m \u001b[0;32mfrom\u001b[0m \u001b[0mgoogle\u001b[0m\u001b[0;34m.\u001b[0m\u001b[0mcolab\u001b[0m \u001b[0;32mimport\u001b[0m \u001b[0mdrive\u001b[0m\u001b[0;34m\u001b[0m\u001b[0;34m\u001b[0m\u001b[0m\n\u001b[0m\u001b[1;32m      3\u001b[0m \u001b[0mdrive\u001b[0m\u001b[0;34m.\u001b[0m\u001b[0mmount\u001b[0m\u001b[0;34m(\u001b[0m\u001b[0;34m\"/content/drive\"\u001b[0m\u001b[0;34m)\u001b[0m\u001b[0;34m\u001b[0m\u001b[0;34m\u001b[0m\u001b[0m\n",
      "\u001b[0;31mModuleNotFoundError\u001b[0m: No module named 'google.colab'"
     ]
    }
   ],
   "source": [
    "# this is to read data on Google Drive\n",
    "from google.colab import drive\n",
    "drive.mount(\"/content/drive\")"
   ]
  },
  {
   "cell_type": "code",
   "execution_count": 6,
   "metadata": {
    "colab": {
     "base_uri": "https://localhost:8080/"
    },
    "id": "JXI_v-uE7qcg",
    "outputId": "ffa8904e-f78d-4319-881c-d09ab68b0406",
    "pycharm": {
     "is_executing": true
    }
   },
   "outputs": [
    {
     "name": "stderr",
     "output_type": "stream",
     "text": [
      "/Applications/anaconda3/lib/python3.8/site-packages/IPython/core/interactiveshell.py:3165: DtypeWarning: Columns (0,19,49,59,118,129,130,131,134,135,136,139,145,146,147) have mixed types.Specify dtype option on import or set low_memory=False.\n",
      "  has_raised = await self.run_ast_nodes(code_ast.body, cell_name,\n"
     ]
    }
   ],
   "source": [
    "# You can find the data here: https://www.kaggle.com/wordsforthewise/lending-club\n",
    "data=pd.read_csv(\"accepted.csv\")"
   ]
  },
  {
   "cell_type": "markdown",
   "metadata": {
    "id": "6jEvrGyeajt7"
   },
   "source": [
    "# Steps:\n",
    "1. Data Exploration - understand the data\n",
    "2. Preliminary feature exclusion - remove features that do not make sense, or can not be used\n",
    "3. Observation exclusion - to creat an unbiased sample that represents the target population and serves model's goal\n",
    "4. Missing Value Imputation (not needed for the XGBoost package we use)\n",
    "5. One-Hot Encoding\n",
    "6. Normalization (not needed for tree-based models)\n",
    "7. Outlier Treatment (not needed for tree-based models)\n",
    "8. Feature Engineering (not needed for this model)\n",
    "9. Test/Train split\n",
    "10. Feature reduction\n",
    "11. Grid search, and Bias/Variance analysis - Choose the final model\n"
   ]
  },
  {
   "cell_type": "markdown",
   "metadata": {
    "id": "Im3NepEN7xUk"
   },
   "source": [
    "## 1. Data Exploration - the goal here is to know the data better\n",
    "\n",
    "**Note: This is a demo. Analysis has been done on only some of the attributes. In an actual project, all attributes, that make sense, should be analyzed.**"
   ]
  },
  {
   "cell_type": "code",
   "execution_count": 7,
   "metadata": {
    "colab": {
     "base_uri": "https://localhost:8080/"
    },
    "id": "9kDwozpFljSp",
    "outputId": "ef42da2d-a6a5-4c3b-9f02-fa42faeefb24",
    "pycharm": {
     "is_executing": true
    }
   },
   "outputs": [
    {
     "data": {
      "text/plain": [
       "(2260701, 151)"
      ]
     },
     "execution_count": 7,
     "metadata": {},
     "output_type": "execute_result"
    }
   ],
   "source": [
    "data.shape"
   ]
  },
  {
   "cell_type": "code",
   "execution_count": 8,
   "metadata": {
    "colab": {
     "base_uri": "https://localhost:8080/",
     "height": 525
    },
    "id": "zNh6UMXaC6UO",
    "outputId": "0c03e3ae-bcf7-4330-c62f-5af76a4297de",
    "pycharm": {
     "is_executing": true
    }
   },
   "outputs": [
    {
     "data": {
      "text/html": [
       "<div>\n",
       "<style scoped>\n",
       "    .dataframe tbody tr th:only-of-type {\n",
       "        vertical-align: middle;\n",
       "    }\n",
       "\n",
       "    .dataframe tbody tr th {\n",
       "        vertical-align: top;\n",
       "    }\n",
       "\n",
       "    .dataframe thead th {\n",
       "        text-align: right;\n",
       "    }\n",
       "</style>\n",
       "<table border=\"1\" class=\"dataframe\">\n",
       "  <thead>\n",
       "    <tr style=\"text-align: right;\">\n",
       "      <th></th>\n",
       "      <th>id</th>\n",
       "      <th>member_id</th>\n",
       "      <th>loan_amnt</th>\n",
       "      <th>funded_amnt</th>\n",
       "      <th>funded_amnt_inv</th>\n",
       "      <th>term</th>\n",
       "      <th>int_rate</th>\n",
       "      <th>installment</th>\n",
       "      <th>grade</th>\n",
       "      <th>sub_grade</th>\n",
       "      <th>...</th>\n",
       "      <th>hardship_payoff_balance_amount</th>\n",
       "      <th>hardship_last_payment_amount</th>\n",
       "      <th>disbursement_method</th>\n",
       "      <th>debt_settlement_flag</th>\n",
       "      <th>debt_settlement_flag_date</th>\n",
       "      <th>settlement_status</th>\n",
       "      <th>settlement_date</th>\n",
       "      <th>settlement_amount</th>\n",
       "      <th>settlement_percentage</th>\n",
       "      <th>settlement_term</th>\n",
       "    </tr>\n",
       "  </thead>\n",
       "  <tbody>\n",
       "    <tr>\n",
       "      <th>2260696</th>\n",
       "      <td>88985880</td>\n",
       "      <td>NaN</td>\n",
       "      <td>40000.0</td>\n",
       "      <td>40000.0</td>\n",
       "      <td>40000.0</td>\n",
       "      <td>60 months</td>\n",
       "      <td>10.49</td>\n",
       "      <td>859.56</td>\n",
       "      <td>B</td>\n",
       "      <td>B3</td>\n",
       "      <td>...</td>\n",
       "      <td>NaN</td>\n",
       "      <td>NaN</td>\n",
       "      <td>Cash</td>\n",
       "      <td>N</td>\n",
       "      <td>NaN</td>\n",
       "      <td>NaN</td>\n",
       "      <td>NaN</td>\n",
       "      <td>NaN</td>\n",
       "      <td>NaN</td>\n",
       "      <td>NaN</td>\n",
       "    </tr>\n",
       "    <tr>\n",
       "      <th>2260697</th>\n",
       "      <td>88224441</td>\n",
       "      <td>NaN</td>\n",
       "      <td>24000.0</td>\n",
       "      <td>24000.0</td>\n",
       "      <td>24000.0</td>\n",
       "      <td>60 months</td>\n",
       "      <td>14.49</td>\n",
       "      <td>564.56</td>\n",
       "      <td>C</td>\n",
       "      <td>C4</td>\n",
       "      <td>...</td>\n",
       "      <td>NaN</td>\n",
       "      <td>NaN</td>\n",
       "      <td>Cash</td>\n",
       "      <td>Y</td>\n",
       "      <td>Mar-2019</td>\n",
       "      <td>ACTIVE</td>\n",
       "      <td>Mar-2019</td>\n",
       "      <td>10000.0</td>\n",
       "      <td>44.82</td>\n",
       "      <td>1.0</td>\n",
       "    </tr>\n",
       "    <tr>\n",
       "      <th>2260698</th>\n",
       "      <td>88215728</td>\n",
       "      <td>NaN</td>\n",
       "      <td>14000.0</td>\n",
       "      <td>14000.0</td>\n",
       "      <td>14000.0</td>\n",
       "      <td>60 months</td>\n",
       "      <td>14.49</td>\n",
       "      <td>329.33</td>\n",
       "      <td>C</td>\n",
       "      <td>C4</td>\n",
       "      <td>...</td>\n",
       "      <td>NaN</td>\n",
       "      <td>NaN</td>\n",
       "      <td>Cash</td>\n",
       "      <td>N</td>\n",
       "      <td>NaN</td>\n",
       "      <td>NaN</td>\n",
       "      <td>NaN</td>\n",
       "      <td>NaN</td>\n",
       "      <td>NaN</td>\n",
       "      <td>NaN</td>\n",
       "    </tr>\n",
       "    <tr>\n",
       "      <th>2260699</th>\n",
       "      <td>Total amount funded in policy code 1: 1465324575</td>\n",
       "      <td>NaN</td>\n",
       "      <td>NaN</td>\n",
       "      <td>NaN</td>\n",
       "      <td>NaN</td>\n",
       "      <td>NaN</td>\n",
       "      <td>NaN</td>\n",
       "      <td>NaN</td>\n",
       "      <td>NaN</td>\n",
       "      <td>NaN</td>\n",
       "      <td>...</td>\n",
       "      <td>NaN</td>\n",
       "      <td>NaN</td>\n",
       "      <td>NaN</td>\n",
       "      <td>NaN</td>\n",
       "      <td>NaN</td>\n",
       "      <td>NaN</td>\n",
       "      <td>NaN</td>\n",
       "      <td>NaN</td>\n",
       "      <td>NaN</td>\n",
       "      <td>NaN</td>\n",
       "    </tr>\n",
       "    <tr>\n",
       "      <th>2260700</th>\n",
       "      <td>Total amount funded in policy code 2: 521953170</td>\n",
       "      <td>NaN</td>\n",
       "      <td>NaN</td>\n",
       "      <td>NaN</td>\n",
       "      <td>NaN</td>\n",
       "      <td>NaN</td>\n",
       "      <td>NaN</td>\n",
       "      <td>NaN</td>\n",
       "      <td>NaN</td>\n",
       "      <td>NaN</td>\n",
       "      <td>...</td>\n",
       "      <td>NaN</td>\n",
       "      <td>NaN</td>\n",
       "      <td>NaN</td>\n",
       "      <td>NaN</td>\n",
       "      <td>NaN</td>\n",
       "      <td>NaN</td>\n",
       "      <td>NaN</td>\n",
       "      <td>NaN</td>\n",
       "      <td>NaN</td>\n",
       "      <td>NaN</td>\n",
       "    </tr>\n",
       "  </tbody>\n",
       "</table>\n",
       "<p>5 rows × 151 columns</p>\n",
       "</div>"
      ],
      "text/plain": [
       "                                                       id  member_id  \\\n",
       "2260696                                          88985880        NaN   \n",
       "2260697                                          88224441        NaN   \n",
       "2260698                                          88215728        NaN   \n",
       "2260699  Total amount funded in policy code 1: 1465324575        NaN   \n",
       "2260700   Total amount funded in policy code 2: 521953170        NaN   \n",
       "\n",
       "         loan_amnt  funded_amnt  funded_amnt_inv        term  int_rate  \\\n",
       "2260696    40000.0      40000.0          40000.0   60 months     10.49   \n",
       "2260697    24000.0      24000.0          24000.0   60 months     14.49   \n",
       "2260698    14000.0      14000.0          14000.0   60 months     14.49   \n",
       "2260699        NaN          NaN              NaN         NaN       NaN   \n",
       "2260700        NaN          NaN              NaN         NaN       NaN   \n",
       "\n",
       "         installment grade sub_grade  ... hardship_payoff_balance_amount  \\\n",
       "2260696       859.56     B        B3  ...                            NaN   \n",
       "2260697       564.56     C        C4  ...                            NaN   \n",
       "2260698       329.33     C        C4  ...                            NaN   \n",
       "2260699          NaN   NaN       NaN  ...                            NaN   \n",
       "2260700          NaN   NaN       NaN  ...                            NaN   \n",
       "\n",
       "        hardship_last_payment_amount disbursement_method  \\\n",
       "2260696                          NaN                Cash   \n",
       "2260697                          NaN                Cash   \n",
       "2260698                          NaN                Cash   \n",
       "2260699                          NaN                 NaN   \n",
       "2260700                          NaN                 NaN   \n",
       "\n",
       "         debt_settlement_flag debt_settlement_flag_date settlement_status  \\\n",
       "2260696                     N                       NaN               NaN   \n",
       "2260697                     Y                  Mar-2019            ACTIVE   \n",
       "2260698                     N                       NaN               NaN   \n",
       "2260699                   NaN                       NaN               NaN   \n",
       "2260700                   NaN                       NaN               NaN   \n",
       "\n",
       "        settlement_date settlement_amount settlement_percentage  \\\n",
       "2260696             NaN               NaN                   NaN   \n",
       "2260697        Mar-2019           10000.0                 44.82   \n",
       "2260698             NaN               NaN                   NaN   \n",
       "2260699             NaN               NaN                   NaN   \n",
       "2260700             NaN               NaN                   NaN   \n",
       "\n",
       "        settlement_term  \n",
       "2260696             NaN  \n",
       "2260697             1.0  \n",
       "2260698             NaN  \n",
       "2260699             NaN  \n",
       "2260700             NaN  \n",
       "\n",
       "[5 rows x 151 columns]"
      ]
     },
     "execution_count": 8,
     "metadata": {},
     "output_type": "execute_result"
    }
   ],
   "source": [
    "data.tail(5)"
   ]
  },
  {
   "cell_type": "code",
   "execution_count": 9,
   "metadata": {
    "id": "ADKIe7xOHu3y",
    "pycharm": {
     "is_executing": true
    }
   },
   "outputs": [],
   "source": [
    "# remove invalid observations\n",
    "data = data[0:2260699]"
   ]
  },
  {
   "cell_type": "code",
   "execution_count": 10,
   "metadata": {
    "colab": {
     "base_uri": "https://localhost:8080/",
     "height": 258
    },
    "id": "xYlP28k28Tb-",
    "outputId": "d585c741-86ba-4886-c6e3-5b09277eb29c",
    "pycharm": {
     "is_executing": true
    }
   },
   "outputs": [
    {
     "name": "stdout",
     "output_type": "stream",
     "text": [
      "2260699\n"
     ]
    },
    {
     "data": {
      "text/html": [
       "<div>\n",
       "<style scoped>\n",
       "    .dataframe tbody tr th:only-of-type {\n",
       "        vertical-align: middle;\n",
       "    }\n",
       "\n",
       "    .dataframe tbody tr th {\n",
       "        vertical-align: top;\n",
       "    }\n",
       "\n",
       "    .dataframe thead th {\n",
       "        text-align: right;\n",
       "    }\n",
       "</style>\n",
       "<table border=\"1\" class=\"dataframe\">\n",
       "  <thead>\n",
       "    <tr style=\"text-align: right;\">\n",
       "      <th></th>\n",
       "      <th>id</th>\n",
       "      <th>member_id</th>\n",
       "      <th>loan_amnt</th>\n",
       "      <th>funded_amnt</th>\n",
       "      <th>funded_amnt_inv</th>\n",
       "      <th>term</th>\n",
       "      <th>int_rate</th>\n",
       "      <th>installment</th>\n",
       "      <th>grade</th>\n",
       "      <th>sub_grade</th>\n",
       "      <th>...</th>\n",
       "      <th>hardship_payoff_balance_amount</th>\n",
       "      <th>hardship_last_payment_amount</th>\n",
       "      <th>disbursement_method</th>\n",
       "      <th>debt_settlement_flag</th>\n",
       "      <th>debt_settlement_flag_date</th>\n",
       "      <th>settlement_status</th>\n",
       "      <th>settlement_date</th>\n",
       "      <th>settlement_amount</th>\n",
       "      <th>settlement_percentage</th>\n",
       "      <th>settlement_term</th>\n",
       "    </tr>\n",
       "  </thead>\n",
       "  <tbody>\n",
       "    <tr>\n",
       "      <th>2260697</th>\n",
       "      <td>88224441</td>\n",
       "      <td>NaN</td>\n",
       "      <td>24000.0</td>\n",
       "      <td>24000.0</td>\n",
       "      <td>24000.0</td>\n",
       "      <td>60 months</td>\n",
       "      <td>14.49</td>\n",
       "      <td>564.56</td>\n",
       "      <td>C</td>\n",
       "      <td>C4</td>\n",
       "      <td>...</td>\n",
       "      <td>NaN</td>\n",
       "      <td>NaN</td>\n",
       "      <td>Cash</td>\n",
       "      <td>Y</td>\n",
       "      <td>Mar-2019</td>\n",
       "      <td>ACTIVE</td>\n",
       "      <td>Mar-2019</td>\n",
       "      <td>10000.0</td>\n",
       "      <td>44.82</td>\n",
       "      <td>1.0</td>\n",
       "    </tr>\n",
       "    <tr>\n",
       "      <th>2260698</th>\n",
       "      <td>88215728</td>\n",
       "      <td>NaN</td>\n",
       "      <td>14000.0</td>\n",
       "      <td>14000.0</td>\n",
       "      <td>14000.0</td>\n",
       "      <td>60 months</td>\n",
       "      <td>14.49</td>\n",
       "      <td>329.33</td>\n",
       "      <td>C</td>\n",
       "      <td>C4</td>\n",
       "      <td>...</td>\n",
       "      <td>NaN</td>\n",
       "      <td>NaN</td>\n",
       "      <td>Cash</td>\n",
       "      <td>N</td>\n",
       "      <td>NaN</td>\n",
       "      <td>NaN</td>\n",
       "      <td>NaN</td>\n",
       "      <td>NaN</td>\n",
       "      <td>NaN</td>\n",
       "      <td>NaN</td>\n",
       "    </tr>\n",
       "  </tbody>\n",
       "</table>\n",
       "<p>2 rows × 151 columns</p>\n",
       "</div>"
      ],
      "text/plain": [
       "               id  member_id  loan_amnt  funded_amnt  funded_amnt_inv  \\\n",
       "2260697  88224441        NaN    24000.0      24000.0          24000.0   \n",
       "2260698  88215728        NaN    14000.0      14000.0          14000.0   \n",
       "\n",
       "               term  int_rate  installment grade sub_grade  ...  \\\n",
       "2260697   60 months     14.49       564.56     C        C4  ...   \n",
       "2260698   60 months     14.49       329.33     C        C4  ...   \n",
       "\n",
       "        hardship_payoff_balance_amount hardship_last_payment_amount  \\\n",
       "2260697                            NaN                          NaN   \n",
       "2260698                            NaN                          NaN   \n",
       "\n",
       "        disbursement_method  debt_settlement_flag debt_settlement_flag_date  \\\n",
       "2260697                Cash                     Y                  Mar-2019   \n",
       "2260698                Cash                     N                       NaN   \n",
       "\n",
       "        settlement_status settlement_date settlement_amount  \\\n",
       "2260697            ACTIVE        Mar-2019           10000.0   \n",
       "2260698               NaN             NaN               NaN   \n",
       "\n",
       "        settlement_percentage settlement_term  \n",
       "2260697                 44.82             1.0  \n",
       "2260698                   NaN             NaN  \n",
       "\n",
       "[2 rows x 151 columns]"
      ]
     },
     "execution_count": 10,
     "metadata": {},
     "output_type": "execute_result"
    }
   ],
   "source": [
    "# frequently check your steps\n",
    "print (data.shape[0])\n",
    "data.tail(2)"
   ]
  },
  {
   "cell_type": "code",
   "execution_count": 11,
   "metadata": {
    "colab": {
     "base_uri": "https://localhost:8080/"
    },
    "id": "zuG77HoYKZAL",
    "outputId": "b796837e-b618-4451-e016-65379839ec8e",
    "pycharm": {
     "is_executing": true
    }
   },
   "outputs": [
    {
     "name": "stdout",
     "output_type": "stream",
     "text": [
      "id                                             object\n",
      "member_id                                     float64\n",
      "loan_amnt                                     float64\n",
      "funded_amnt                                   float64\n",
      "funded_amnt_inv                               float64\n",
      "term                                           object\n",
      "int_rate                                      float64\n",
      "installment                                   float64\n",
      "grade                                          object\n",
      "sub_grade                                      object\n",
      "emp_title                                      object\n",
      "emp_length                                     object\n",
      "home_ownership                                 object\n",
      "annual_inc                                    float64\n",
      "verification_status                            object\n",
      "issue_d                                        object\n",
      "loan_status                                    object\n",
      "pymnt_plan                                     object\n",
      "url                                            object\n",
      "desc                                           object\n",
      "purpose                                        object\n",
      "title                                          object\n",
      "zip_code                                       object\n",
      "addr_state                                     object\n",
      "dti                                           float64\n",
      "delinq_2yrs                                   float64\n",
      "earliest_cr_line                               object\n",
      "fico_range_low                                float64\n",
      "fico_range_high                               float64\n",
      "inq_last_6mths                                float64\n",
      "mths_since_last_delinq                        float64\n",
      "mths_since_last_record                        float64\n",
      "open_acc                                      float64\n",
      "pub_rec                                       float64\n",
      "revol_bal                                     float64\n",
      "revol_util                                    float64\n",
      "total_acc                                     float64\n",
      "initial_list_status                            object\n",
      "out_prncp                                     float64\n",
      "out_prncp_inv                                 float64\n",
      "total_pymnt                                   float64\n",
      "total_pymnt_inv                               float64\n",
      "total_rec_prncp                               float64\n",
      "total_rec_int                                 float64\n",
      "total_rec_late_fee                            float64\n",
      "recoveries                                    float64\n",
      "collection_recovery_fee                       float64\n",
      "last_pymnt_d                                   object\n",
      "last_pymnt_amnt                               float64\n",
      "next_pymnt_d                                   object\n",
      "last_credit_pull_d                             object\n",
      "last_fico_range_high                          float64\n",
      "last_fico_range_low                           float64\n",
      "collections_12_mths_ex_med                    float64\n",
      "mths_since_last_major_derog                   float64\n",
      "policy_code                                   float64\n",
      "application_type                               object\n",
      "annual_inc_joint                              float64\n",
      "dti_joint                                     float64\n",
      "verification_status_joint                      object\n",
      "acc_now_delinq                                float64\n",
      "tot_coll_amt                                  float64\n",
      "tot_cur_bal                                   float64\n",
      "open_acc_6m                                   float64\n",
      "open_act_il                                   float64\n",
      "open_il_12m                                   float64\n",
      "open_il_24m                                   float64\n",
      "mths_since_rcnt_il                            float64\n",
      "total_bal_il                                  float64\n",
      "il_util                                       float64\n",
      "open_rv_12m                                   float64\n",
      "open_rv_24m                                   float64\n",
      "max_bal_bc                                    float64\n",
      "all_util                                      float64\n",
      "total_rev_hi_lim                              float64\n",
      "inq_fi                                        float64\n",
      "total_cu_tl                                   float64\n",
      "inq_last_12m                                  float64\n",
      "acc_open_past_24mths                          float64\n",
      "avg_cur_bal                                   float64\n",
      "bc_open_to_buy                                float64\n",
      "bc_util                                       float64\n",
      "chargeoff_within_12_mths                      float64\n",
      "delinq_amnt                                   float64\n",
      "mo_sin_old_il_acct                            float64\n",
      "mo_sin_old_rev_tl_op                          float64\n",
      "mo_sin_rcnt_rev_tl_op                         float64\n",
      "mo_sin_rcnt_tl                                float64\n",
      "mort_acc                                      float64\n",
      "mths_since_recent_bc                          float64\n",
      "mths_since_recent_bc_dlq                      float64\n",
      "mths_since_recent_inq                         float64\n",
      "mths_since_recent_revol_delinq                float64\n",
      "num_accts_ever_120_pd                         float64\n",
      "num_actv_bc_tl                                float64\n",
      "num_actv_rev_tl                               float64\n",
      "num_bc_sats                                   float64\n",
      "num_bc_tl                                     float64\n",
      "num_il_tl                                     float64\n",
      "num_op_rev_tl                                 float64\n",
      "num_rev_accts                                 float64\n",
      "num_rev_tl_bal_gt_0                           float64\n",
      "num_sats                                      float64\n",
      "num_tl_120dpd_2m                              float64\n",
      "num_tl_30dpd                                  float64\n",
      "num_tl_90g_dpd_24m                            float64\n",
      "num_tl_op_past_12m                            float64\n",
      "pct_tl_nvr_dlq                                float64\n",
      "percent_bc_gt_75                              float64\n",
      "pub_rec_bankruptcies                          float64\n",
      "tax_liens                                     float64\n",
      "tot_hi_cred_lim                               float64\n",
      "total_bal_ex_mort                             float64\n",
      "total_bc_limit                                float64\n",
      "total_il_high_credit_limit                    float64\n",
      "revol_bal_joint                               float64\n",
      "sec_app_fico_range_low                        float64\n",
      "sec_app_fico_range_high                       float64\n",
      "sec_app_earliest_cr_line                       object\n",
      "sec_app_inq_last_6mths                        float64\n",
      "sec_app_mort_acc                              float64\n",
      "sec_app_open_acc                              float64\n",
      "sec_app_revol_util                            float64\n",
      "sec_app_open_act_il                           float64\n",
      "sec_app_num_rev_accts                         float64\n",
      "sec_app_chargeoff_within_12_mths              float64\n",
      "sec_app_collections_12_mths_ex_med            float64\n",
      "sec_app_mths_since_last_major_derog           float64\n",
      "hardship_flag                                  object\n",
      "hardship_type                                  object\n",
      "hardship_reason                                object\n",
      "hardship_status                                object\n",
      "deferral_term                                 float64\n",
      "hardship_amount                               float64\n",
      "hardship_start_date                            object\n",
      "hardship_end_date                              object\n",
      "payment_plan_start_date                        object\n",
      "hardship_length                               float64\n",
      "hardship_dpd                                  float64\n",
      "hardship_loan_status                           object\n",
      "orig_projected_additional_accrued_interest    float64\n",
      "hardship_payoff_balance_amount                float64\n",
      "hardship_last_payment_amount                  float64\n",
      "disbursement_method                            object\n",
      "debt_settlement_flag                           object\n",
      "debt_settlement_flag_date                      object\n",
      "settlement_status                              object\n",
      "settlement_date                                object\n",
      "settlement_amount                             float64\n",
      "settlement_percentage                         float64\n",
      "settlement_term                               float64\n",
      "dtype: object\n"
     ]
    }
   ],
   "source": [
    "# check data types - objects imply non-numeric\n",
    "# note that sometimes numeric columns appear as Object, because of few non-numeric observations. Such as a character that may represent a special value.\n",
    "with pd.option_context('display.max_rows', None, 'display.max_columns', None):  \n",
    "    print(data.dtypes)"
   ]
  },
  {
   "cell_type": "markdown",
   "metadata": {
    "id": "7G3nL6yY-ziJ"
   },
   "source": [
    "## 2. Preliminary feature exclusion\n",
    "\n",
    "Exclude features that do not make sense or can not be used. For example, some features such as Gender can not be used in a Credit Risk model (fair lending practices).  What other features you can think of that can not be used?\n",
    "\n",
    "Here we will use a small subsample of features. In an actual project, more features would have been selected.\n",
    "\n",
    "ID will be used for data merge (needed in an actual project), loan_status will be used to define dependent variable, pymnt_plan and hardship_flag will be used to define exclusions. The rest of the variables will be used as independent variables."
   ]
  },
  {
   "cell_type": "code",
   "execution_count": 12,
   "metadata": {
    "id": "3gorhqJ3OAFz",
    "pycharm": {
     "is_executing": true
    }
   },
   "outputs": [],
   "source": [
    "final_data = data[[\"id\", \"emp_length\", \"loan_status\", \"pymnt_plan\", \"dti\", \"delinq_2yrs\"\n",
    ",\"fico_range_low\", \"fico_range_high\", \"inq_last_6mths\", \"mths_since_last_delinq\", \"revol_bal\",\n",
    "\"revol_util\", \"total_acc\", \"avg_cur_bal\", \"chargeoff_within_12_mths\", \"hardship_flag\"]].copy()"
   ]
  },
  {
   "cell_type": "code",
   "execution_count": 13,
   "metadata": {
    "colab": {
     "base_uri": "https://localhost:8080/"
    },
    "id": "PUIkeYt0OBrI",
    "outputId": "e7337e24-0d90-4008-afdf-5a9c0e9203c5",
    "pycharm": {
     "is_executing": true
    }
   },
   "outputs": [
    {
     "data": {
      "text/plain": [
       "(2260699, 16)"
      ]
     },
     "execution_count": 13,
     "metadata": {},
     "output_type": "execute_result"
    }
   ],
   "source": [
    "# check the data frequently\n",
    "final_data.shape"
   ]
  },
  {
   "cell_type": "code",
   "execution_count": 14,
   "metadata": {
    "colab": {
     "base_uri": "https://localhost:8080/",
     "height": 270
    },
    "id": "HEvNeXHIOEdt",
    "outputId": "726979ba-9d9b-4627-aef2-184051850c52",
    "pycharm": {
     "is_executing": true
    }
   },
   "outputs": [
    {
     "data": {
      "text/html": [
       "<div>\n",
       "<style scoped>\n",
       "    .dataframe tbody tr th:only-of-type {\n",
       "        vertical-align: middle;\n",
       "    }\n",
       "\n",
       "    .dataframe tbody tr th {\n",
       "        vertical-align: top;\n",
       "    }\n",
       "\n",
       "    .dataframe thead th {\n",
       "        text-align: right;\n",
       "    }\n",
       "</style>\n",
       "<table border=\"1\" class=\"dataframe\">\n",
       "  <thead>\n",
       "    <tr style=\"text-align: right;\">\n",
       "      <th></th>\n",
       "      <th>id</th>\n",
       "      <th>emp_length</th>\n",
       "      <th>loan_status</th>\n",
       "      <th>pymnt_plan</th>\n",
       "      <th>dti</th>\n",
       "      <th>delinq_2yrs</th>\n",
       "      <th>fico_range_low</th>\n",
       "      <th>fico_range_high</th>\n",
       "      <th>inq_last_6mths</th>\n",
       "      <th>mths_since_last_delinq</th>\n",
       "      <th>revol_bal</th>\n",
       "      <th>revol_util</th>\n",
       "      <th>total_acc</th>\n",
       "      <th>avg_cur_bal</th>\n",
       "      <th>chargeoff_within_12_mths</th>\n",
       "      <th>hardship_flag</th>\n",
       "    </tr>\n",
       "  </thead>\n",
       "  <tbody>\n",
       "    <tr>\n",
       "      <th>2260694</th>\n",
       "      <td>89885898</td>\n",
       "      <td>7 years</td>\n",
       "      <td>Current</td>\n",
       "      <td>n</td>\n",
       "      <td>19.61</td>\n",
       "      <td>0.0</td>\n",
       "      <td>665.0</td>\n",
       "      <td>669.0</td>\n",
       "      <td>0.0</td>\n",
       "      <td>NaN</td>\n",
       "      <td>49431.0</td>\n",
       "      <td>84.4</td>\n",
       "      <td>54.0</td>\n",
       "      <td>26106.0</td>\n",
       "      <td>0.0</td>\n",
       "      <td>N</td>\n",
       "    </tr>\n",
       "    <tr>\n",
       "      <th>2260695</th>\n",
       "      <td>88977788</td>\n",
       "      <td>10+ years</td>\n",
       "      <td>Current</td>\n",
       "      <td>n</td>\n",
       "      <td>34.94</td>\n",
       "      <td>0.0</td>\n",
       "      <td>695.0</td>\n",
       "      <td>699.0</td>\n",
       "      <td>1.0</td>\n",
       "      <td>60.0</td>\n",
       "      <td>21665.0</td>\n",
       "      <td>39.0</td>\n",
       "      <td>58.0</td>\n",
       "      <td>6369.0</td>\n",
       "      <td>0.0</td>\n",
       "      <td>N</td>\n",
       "    </tr>\n",
       "    <tr>\n",
       "      <th>2260696</th>\n",
       "      <td>88985880</td>\n",
       "      <td>9 years</td>\n",
       "      <td>Current</td>\n",
       "      <td>n</td>\n",
       "      <td>12.75</td>\n",
       "      <td>7.0</td>\n",
       "      <td>705.0</td>\n",
       "      <td>709.0</td>\n",
       "      <td>1.0</td>\n",
       "      <td>9.0</td>\n",
       "      <td>8633.0</td>\n",
       "      <td>64.9</td>\n",
       "      <td>37.0</td>\n",
       "      <td>5680.0</td>\n",
       "      <td>0.0</td>\n",
       "      <td>N</td>\n",
       "    </tr>\n",
       "    <tr>\n",
       "      <th>2260697</th>\n",
       "      <td>88224441</td>\n",
       "      <td>6 years</td>\n",
       "      <td>Charged Off</td>\n",
       "      <td>n</td>\n",
       "      <td>18.30</td>\n",
       "      <td>0.0</td>\n",
       "      <td>660.0</td>\n",
       "      <td>664.0</td>\n",
       "      <td>0.0</td>\n",
       "      <td>67.0</td>\n",
       "      <td>17641.0</td>\n",
       "      <td>68.1</td>\n",
       "      <td>31.0</td>\n",
       "      <td>6243.0</td>\n",
       "      <td>0.0</td>\n",
       "      <td>N</td>\n",
       "    </tr>\n",
       "    <tr>\n",
       "      <th>2260698</th>\n",
       "      <td>88215728</td>\n",
       "      <td>10+ years</td>\n",
       "      <td>Current</td>\n",
       "      <td>n</td>\n",
       "      <td>23.36</td>\n",
       "      <td>0.0</td>\n",
       "      <td>660.0</td>\n",
       "      <td>664.0</td>\n",
       "      <td>1.0</td>\n",
       "      <td>37.0</td>\n",
       "      <td>7662.0</td>\n",
       "      <td>54.0</td>\n",
       "      <td>22.0</td>\n",
       "      <td>17883.0</td>\n",
       "      <td>0.0</td>\n",
       "      <td>N</td>\n",
       "    </tr>\n",
       "  </tbody>\n",
       "</table>\n",
       "</div>"
      ],
      "text/plain": [
       "               id emp_length  loan_status pymnt_plan    dti  delinq_2yrs  \\\n",
       "2260694  89885898    7 years      Current          n  19.61          0.0   \n",
       "2260695  88977788  10+ years      Current          n  34.94          0.0   \n",
       "2260696  88985880    9 years      Current          n  12.75          7.0   \n",
       "2260697  88224441    6 years  Charged Off          n  18.30          0.0   \n",
       "2260698  88215728  10+ years      Current          n  23.36          0.0   \n",
       "\n",
       "         fico_range_low  fico_range_high  inq_last_6mths  \\\n",
       "2260694           665.0            669.0             0.0   \n",
       "2260695           695.0            699.0             1.0   \n",
       "2260696           705.0            709.0             1.0   \n",
       "2260697           660.0            664.0             0.0   \n",
       "2260698           660.0            664.0             1.0   \n",
       "\n",
       "         mths_since_last_delinq  revol_bal  revol_util  total_acc  \\\n",
       "2260694                     NaN    49431.0        84.4       54.0   \n",
       "2260695                    60.0    21665.0        39.0       58.0   \n",
       "2260696                     9.0     8633.0        64.9       37.0   \n",
       "2260697                    67.0    17641.0        68.1       31.0   \n",
       "2260698                    37.0     7662.0        54.0       22.0   \n",
       "\n",
       "         avg_cur_bal  chargeoff_within_12_mths hardship_flag  \n",
       "2260694      26106.0                       0.0             N  \n",
       "2260695       6369.0                       0.0             N  \n",
       "2260696       5680.0                       0.0             N  \n",
       "2260697       6243.0                       0.0             N  \n",
       "2260698      17883.0                       0.0             N  "
      ]
     },
     "execution_count": 14,
     "metadata": {},
     "output_type": "execute_result"
    }
   ],
   "source": [
    "# check the data frequently\n",
    "final_data.tail(5)"
   ]
  },
  {
   "cell_type": "markdown",
   "metadata": {
    "id": "pUenpv91A1E7"
   },
   "source": [
    "## 3. Observation Exclusion"
   ]
  },
  {
   "cell_type": "code",
   "execution_count": 15,
   "metadata": {
    "colab": {
     "base_uri": "https://localhost:8080/"
    },
    "id": "ej2seounB9hH",
    "outputId": "ca285b20-1943-473a-c0c8-991dcc1fe91b",
    "pycharm": {
     "is_executing": true
    }
   },
   "outputs": [
    {
     "data": {
      "text/plain": [
       "id                           object\n",
       "emp_length                   object\n",
       "loan_status                  object\n",
       "pymnt_plan                   object\n",
       "dti                         float64\n",
       "delinq_2yrs                 float64\n",
       "fico_range_low              float64\n",
       "fico_range_high             float64\n",
       "inq_last_6mths              float64\n",
       "mths_since_last_delinq      float64\n",
       "revol_bal                   float64\n",
       "revol_util                  float64\n",
       "total_acc                   float64\n",
       "avg_cur_bal                 float64\n",
       "chargeoff_within_12_mths    float64\n",
       "hardship_flag                object\n",
       "dtype: object"
      ]
     },
     "execution_count": 15,
     "metadata": {},
     "output_type": "execute_result"
    }
   ],
   "source": [
    "final_data.dtypes"
   ]
  },
  {
   "cell_type": "code",
   "execution_count": 16,
   "metadata": {
    "colab": {
     "base_uri": "https://localhost:8080/",
     "height": 143
    },
    "id": "k9jlMYDHt0h6",
    "outputId": "c5b1f0ab-36ec-4f05-d3a4-fc61f2c829c9",
    "pycharm": {
     "is_executing": true
    }
   },
   "outputs": [
    {
     "data": {
      "text/html": [
       "<div>\n",
       "<style scoped>\n",
       "    .dataframe tbody tr th:only-of-type {\n",
       "        vertical-align: middle;\n",
       "    }\n",
       "\n",
       "    .dataframe tbody tr th {\n",
       "        vertical-align: top;\n",
       "    }\n",
       "\n",
       "    .dataframe thead th {\n",
       "        text-align: right;\n",
       "    }\n",
       "</style>\n",
       "<table border=\"1\" class=\"dataframe\">\n",
       "  <thead>\n",
       "    <tr style=\"text-align: right;\">\n",
       "      <th></th>\n",
       "      <th>id</th>\n",
       "    </tr>\n",
       "    <tr>\n",
       "      <th>pymnt_plan</th>\n",
       "      <th></th>\n",
       "    </tr>\n",
       "  </thead>\n",
       "  <tbody>\n",
       "    <tr>\n",
       "      <th>n</th>\n",
       "      <td>2260048</td>\n",
       "    </tr>\n",
       "    <tr>\n",
       "      <th>y</th>\n",
       "      <td>620</td>\n",
       "    </tr>\n",
       "  </tbody>\n",
       "</table>\n",
       "</div>"
      ],
      "text/plain": [
       "                 id\n",
       "pymnt_plan         \n",
       "n           2260048\n",
       "y               620"
      ]
     },
     "execution_count": 16,
     "metadata": {},
     "output_type": "execute_result"
    }
   ],
   "source": [
    "# Remove observations under payment plan. Cases that are under payment plan, do not follow normal delinquency process. They often have weak profiles but are not tagged as\n",
    "# delinquent because they are under payment plan.\n",
    "\n",
    "final_data[[\"pymnt_plan\", \"id\"]].groupby([\"pymnt_plan\"]).count()"
   ]
  },
  {
   "cell_type": "code",
   "execution_count": 17,
   "metadata": {
    "colab": {
     "base_uri": "https://localhost:8080/"
    },
    "id": "-WoVl3GGuCxO",
    "outputId": "ab2cd991-cb36-4f39-9cf9-e4876ed07715",
    "pycharm": {
     "is_executing": true
    }
   },
   "outputs": [
    {
     "data": {
      "text/plain": [
       "2260079"
      ]
     },
     "execution_count": 17,
     "metadata": {},
     "output_type": "execute_result"
    }
   ],
   "source": [
    "final_data = final_data[final_data.pymnt_plan != \"y\"]\n",
    "final_data.shape[0]"
   ]
  },
  {
   "cell_type": "code",
   "execution_count": 18,
   "metadata": {
    "colab": {
     "base_uri": "https://localhost:8080/",
     "height": 143
    },
    "id": "sa_AKpi_uY68",
    "outputId": "39e41895-5370-43fb-b0c9-12e6cb04b1a1",
    "pycharm": {
     "is_executing": true
    }
   },
   "outputs": [
    {
     "data": {
      "text/html": [
       "<div>\n",
       "<style scoped>\n",
       "    .dataframe tbody tr th:only-of-type {\n",
       "        vertical-align: middle;\n",
       "    }\n",
       "\n",
       "    .dataframe tbody tr th {\n",
       "        vertical-align: top;\n",
       "    }\n",
       "\n",
       "    .dataframe thead th {\n",
       "        text-align: right;\n",
       "    }\n",
       "</style>\n",
       "<table border=\"1\" class=\"dataframe\">\n",
       "  <thead>\n",
       "    <tr style=\"text-align: right;\">\n",
       "      <th></th>\n",
       "      <th>id</th>\n",
       "    </tr>\n",
       "    <tr>\n",
       "      <th>hardship_flag</th>\n",
       "      <th></th>\n",
       "    </tr>\n",
       "  </thead>\n",
       "  <tbody>\n",
       "    <tr>\n",
       "      <th>N</th>\n",
       "      <td>2259836</td>\n",
       "    </tr>\n",
       "    <tr>\n",
       "      <th>Y</th>\n",
       "      <td>212</td>\n",
       "    </tr>\n",
       "  </tbody>\n",
       "</table>\n",
       "</div>"
      ],
      "text/plain": [
       "                    id\n",
       "hardship_flag         \n",
       "N              2259836\n",
       "Y                  212"
      ]
     },
     "execution_count": 18,
     "metadata": {},
     "output_type": "execute_result"
    }
   ],
   "source": [
    "# Remove observations under hardship flag, for the same reason as hardship flag.\n",
    "\n",
    "final_data[[\"hardship_flag\", \"id\"]].groupby([\"hardship_flag\"]).count()"
   ]
  },
  {
   "cell_type": "code",
   "execution_count": 19,
   "metadata": {
    "colab": {
     "base_uri": "https://localhost:8080/"
    },
    "id": "1PQGIZNaulKN",
    "outputId": "de940860-dfc1-453c-c7c7-88f359656256",
    "pycharm": {
     "is_executing": true
    }
   },
   "outputs": [
    {
     "data": {
      "text/plain": [
       "2259867"
      ]
     },
     "execution_count": 19,
     "metadata": {},
     "output_type": "execute_result"
    }
   ],
   "source": [
    "final_data = final_data[final_data.hardship_flag != \"Y\"]\n",
    "final_data.shape[0]"
   ]
  },
  {
   "cell_type": "code",
   "execution_count": 20,
   "metadata": {
    "colab": {
     "base_uri": "https://localhost:8080/",
     "height": 363
    },
    "id": "sNIeE37_A9bY",
    "outputId": "48bd4195-120d-4aa6-87c0-e35d24c0e262",
    "pycharm": {
     "is_executing": true
    }
   },
   "outputs": [
    {
     "data": {
      "text/html": [
       "<div>\n",
       "<style scoped>\n",
       "    .dataframe tbody tr th:only-of-type {\n",
       "        vertical-align: middle;\n",
       "    }\n",
       "\n",
       "    .dataframe tbody tr th {\n",
       "        vertical-align: top;\n",
       "    }\n",
       "\n",
       "    .dataframe thead th {\n",
       "        text-align: right;\n",
       "    }\n",
       "</style>\n",
       "<table border=\"1\" class=\"dataframe\">\n",
       "  <thead>\n",
       "    <tr style=\"text-align: right;\">\n",
       "      <th></th>\n",
       "      <th>id</th>\n",
       "    </tr>\n",
       "    <tr>\n",
       "      <th>loan_status</th>\n",
       "      <th></th>\n",
       "    </tr>\n",
       "  </thead>\n",
       "  <tbody>\n",
       "    <tr>\n",
       "      <th>Charged Off</th>\n",
       "      <td>268559</td>\n",
       "    </tr>\n",
       "    <tr>\n",
       "      <th>Current</th>\n",
       "      <td>878313</td>\n",
       "    </tr>\n",
       "    <tr>\n",
       "      <th>Default</th>\n",
       "      <td>40</td>\n",
       "    </tr>\n",
       "    <tr>\n",
       "      <th>Does not meet the credit policy. Status:Charged Off</th>\n",
       "      <td>761</td>\n",
       "    </tr>\n",
       "    <tr>\n",
       "      <th>Does not meet the credit policy. Status:Fully Paid</th>\n",
       "      <td>1988</td>\n",
       "    </tr>\n",
       "    <tr>\n",
       "      <th>Fully Paid</th>\n",
       "      <td>1076751</td>\n",
       "    </tr>\n",
       "    <tr>\n",
       "      <th>In Grace Period</th>\n",
       "      <td>8420</td>\n",
       "    </tr>\n",
       "    <tr>\n",
       "      <th>Late (16-30 days)</th>\n",
       "      <td>4266</td>\n",
       "    </tr>\n",
       "    <tr>\n",
       "      <th>Late (31-120 days)</th>\n",
       "      <td>20738</td>\n",
       "    </tr>\n",
       "  </tbody>\n",
       "</table>\n",
       "</div>"
      ],
      "text/plain": [
       "                                                         id\n",
       "loan_status                                                \n",
       "Charged Off                                          268559\n",
       "Current                                              878313\n",
       "Default                                                  40\n",
       "Does not meet the credit policy. Status:Charged...      761\n",
       "Does not meet the credit policy. Status:Fully Paid     1988\n",
       "Fully Paid                                          1076751\n",
       "In Grace Period                                        8420\n",
       "Late (16-30 days)                                      4266\n",
       "Late (31-120 days)                                    20738"
      ]
     },
     "execution_count": 20,
     "metadata": {},
     "output_type": "execute_result"
    }
   ],
   "source": [
    "# Last exclusions are related to the target variable. We intend to analyze the current credit status of customer, so we exclude inactive accounts.\n",
    "# One category of inactive is \"charged off\" accounts. These are customers who have defaulted previously, and so we have stopped tracking their credit\n",
    "# status (target variable). Their profile (independent variables) may have improved since they have been charged off, but the target variable \n",
    "# shows \"charged off\". Therefore for these customers, dependent and independent variables do not show the correct relationship.\n",
    "\n",
    "final_data[[\"loan_status\", \"id\"]].groupby([\"loan_status\"]).count()"
   ]
  },
  {
   "cell_type": "code",
   "execution_count": 21,
   "metadata": {
    "colab": {
     "base_uri": "https://localhost:8080/"
    },
    "id": "vTDp7vGE0zYb",
    "outputId": "4c3d664c-7f29-49dc-ba30-769ab29a9fca",
    "pycharm": {
     "is_executing": true
    }
   },
   "outputs": [
    {
     "data": {
      "text/plain": [
       "911737"
      ]
     },
     "execution_count": 21,
     "metadata": {},
     "output_type": "execute_result"
    }
   ],
   "source": [
    "# Remove cases with missing loan status as well as inactive accounts. \n",
    "# Note that we often don't do missing imputation on Y variable. rather exclude those observations.\n",
    "final_data = final_data[final_data.loan_status != \"Charged Off\"]\n",
    "final_data = final_data[final_data.loan_status != \"Default\"]\n",
    "final_data = final_data[final_data.loan_status != \"Does not meet the credit policy. Status:Charged Off\"]\n",
    "final_data = final_data[final_data.loan_status != \"Does not meet the credit policy. Status:Fully Paid\"]\n",
    "final_data = final_data[final_data.loan_status != \"Fully Paid\"]\n",
    "final_data = final_data[final_data.loan_status.notnull()]\n",
    "\n",
    "final_data.shape[0]"
   ]
  },
  {
   "cell_type": "code",
   "execution_count": 22,
   "metadata": {
    "colab": {
     "base_uri": "https://localhost:8080/",
     "height": 206
    },
    "id": "fBiuGQeq3MMS",
    "outputId": "3697758c-9819-4266-976d-deaab8d62e10",
    "pycharm": {
     "is_executing": true
    }
   },
   "outputs": [
    {
     "data": {
      "text/html": [
       "<div>\n",
       "<style scoped>\n",
       "    .dataframe tbody tr th:only-of-type {\n",
       "        vertical-align: middle;\n",
       "    }\n",
       "\n",
       "    .dataframe tbody tr th {\n",
       "        vertical-align: top;\n",
       "    }\n",
       "\n",
       "    .dataframe thead th {\n",
       "        text-align: right;\n",
       "    }\n",
       "</style>\n",
       "<table border=\"1\" class=\"dataframe\">\n",
       "  <thead>\n",
       "    <tr style=\"text-align: right;\">\n",
       "      <th></th>\n",
       "      <th>id</th>\n",
       "    </tr>\n",
       "    <tr>\n",
       "      <th>loan_status</th>\n",
       "      <th></th>\n",
       "    </tr>\n",
       "  </thead>\n",
       "  <tbody>\n",
       "    <tr>\n",
       "      <th>Current</th>\n",
       "      <td>878313</td>\n",
       "    </tr>\n",
       "    <tr>\n",
       "      <th>In Grace Period</th>\n",
       "      <td>8420</td>\n",
       "    </tr>\n",
       "    <tr>\n",
       "      <th>Late (16-30 days)</th>\n",
       "      <td>4266</td>\n",
       "    </tr>\n",
       "    <tr>\n",
       "      <th>Late (31-120 days)</th>\n",
       "      <td>20738</td>\n",
       "    </tr>\n",
       "  </tbody>\n",
       "</table>\n",
       "</div>"
      ],
      "text/plain": [
       "                        id\n",
       "loan_status               \n",
       "Current             878313\n",
       "In Grace Period       8420\n",
       "Late (16-30 days)     4266\n",
       "Late (31-120 days)   20738"
      ]
     },
     "execution_count": 22,
     "metadata": {},
     "output_type": "execute_result"
    }
   ],
   "source": [
    "# check\n",
    "final_data[[\"loan_status\", \"id\"]].groupby([\"loan_status\"]).count()"
   ]
  },
  {
   "cell_type": "code",
   "execution_count": 23,
   "metadata": {
    "id": "WUpyEMNo3cPy",
    "pycharm": {
     "is_executing": true
    }
   },
   "outputs": [],
   "source": [
    "# Define target variable based on \"loan_status\". We define everyone who is current or in grace priod as good (0), and others as bad (1).\n",
    "final_data['30+ Delinquent'] = np.where((final_data.loan_status == \"Current\") | \n",
    "                                        (final_data.loan_status == \"In Grace Period\"),0, 1)"
   ]
  },
  {
   "cell_type": "code",
   "execution_count": 24,
   "metadata": {
    "colab": {
     "base_uri": "https://localhost:8080/",
     "height": 143
    },
    "id": "NZyriqgG3r1f",
    "outputId": "d13d9e8d-abb0-4b75-982a-14b0d8a51e0d",
    "pycharm": {
     "is_executing": true
    }
   },
   "outputs": [
    {
     "data": {
      "text/html": [
       "<div>\n",
       "<style scoped>\n",
       "    .dataframe tbody tr th:only-of-type {\n",
       "        vertical-align: middle;\n",
       "    }\n",
       "\n",
       "    .dataframe tbody tr th {\n",
       "        vertical-align: top;\n",
       "    }\n",
       "\n",
       "    .dataframe thead th {\n",
       "        text-align: right;\n",
       "    }\n",
       "</style>\n",
       "<table border=\"1\" class=\"dataframe\">\n",
       "  <thead>\n",
       "    <tr style=\"text-align: right;\">\n",
       "      <th></th>\n",
       "      <th>id</th>\n",
       "    </tr>\n",
       "    <tr>\n",
       "      <th>30+ Delinquent</th>\n",
       "      <th></th>\n",
       "    </tr>\n",
       "  </thead>\n",
       "  <tbody>\n",
       "    <tr>\n",
       "      <th>0</th>\n",
       "      <td>886733</td>\n",
       "    </tr>\n",
       "    <tr>\n",
       "      <th>1</th>\n",
       "      <td>25004</td>\n",
       "    </tr>\n",
       "  </tbody>\n",
       "</table>\n",
       "</div>"
      ],
      "text/plain": [
       "                    id\n",
       "30+ Delinquent        \n",
       "0               886733\n",
       "1                25004"
      ]
     },
     "execution_count": 24,
     "metadata": {},
     "output_type": "execute_result"
    }
   ],
   "source": [
    "# check\n",
    "final_data[[\"30+ Delinquent\", \"id\"]].groupby([\"30+ Delinquent\"]).count()"
   ]
  },
  {
   "cell_type": "code",
   "execution_count": 25,
   "metadata": {
    "id": "SBSiuqBiMlJP",
    "pycharm": {
     "is_executing": true
    }
   },
   "outputs": [],
   "source": [
    "# remove attributes that are not needed anymore\n",
    "final_data.drop(['loan_status', 'hardship_flag', \n",
    "                'pymnt_plan'], axis=1, inplace=True)"
   ]
  },
  {
   "cell_type": "markdown",
   "metadata": {
    "id": "boKInocV6GBb"
   },
   "source": [
    "# 4. Missing value imputation"
   ]
  },
  {
   "cell_type": "code",
   "execution_count": 26,
   "metadata": {
    "colab": {
     "base_uri": "https://localhost:8080/",
     "height": 426
    },
    "id": "KRVwHq1iAFzI",
    "outputId": "71c521ec-718d-4140-b741-7c8fe49fbab6",
    "pycharm": {
     "is_executing": true
    }
   },
   "outputs": [
    {
     "data": {
      "text/html": [
       "<div>\n",
       "<style scoped>\n",
       "    .dataframe tbody tr th:only-of-type {\n",
       "        vertical-align: middle;\n",
       "    }\n",
       "\n",
       "    .dataframe tbody tr th {\n",
       "        vertical-align: top;\n",
       "    }\n",
       "\n",
       "    .dataframe thead th {\n",
       "        text-align: right;\n",
       "    }\n",
       "</style>\n",
       "<table border=\"1\" class=\"dataframe\">\n",
       "  <thead>\n",
       "    <tr style=\"text-align: right;\">\n",
       "      <th></th>\n",
       "      <th>count</th>\n",
       "      <th>mean</th>\n",
       "      <th>std</th>\n",
       "      <th>min</th>\n",
       "      <th>25%</th>\n",
       "      <th>50%</th>\n",
       "      <th>75%</th>\n",
       "      <th>max</th>\n",
       "    </tr>\n",
       "  </thead>\n",
       "  <tbody>\n",
       "    <tr>\n",
       "      <th>dti</th>\n",
       "      <td>910401.0</td>\n",
       "      <td>19.637414</td>\n",
       "      <td>17.711089</td>\n",
       "      <td>0.0</td>\n",
       "      <td>12.06</td>\n",
       "      <td>18.2</td>\n",
       "      <td>25.19</td>\n",
       "      <td>999.0</td>\n",
       "    </tr>\n",
       "    <tr>\n",
       "      <th>delinq_2yrs</th>\n",
       "      <td>911737.0</td>\n",
       "      <td>0.290833</td>\n",
       "      <td>0.850977</td>\n",
       "      <td>0.0</td>\n",
       "      <td>0.00</td>\n",
       "      <td>0.0</td>\n",
       "      <td>0.00</td>\n",
       "      <td>58.0</td>\n",
       "    </tr>\n",
       "    <tr>\n",
       "      <th>fico_range_low</th>\n",
       "      <td>911737.0</td>\n",
       "      <td>702.182378</td>\n",
       "      <td>34.343632</td>\n",
       "      <td>660.0</td>\n",
       "      <td>675.00</td>\n",
       "      <td>695.0</td>\n",
       "      <td>720.00</td>\n",
       "      <td>845.0</td>\n",
       "    </tr>\n",
       "    <tr>\n",
       "      <th>fico_range_high</th>\n",
       "      <td>911737.0</td>\n",
       "      <td>706.182657</td>\n",
       "      <td>34.344794</td>\n",
       "      <td>664.0</td>\n",
       "      <td>679.00</td>\n",
       "      <td>699.0</td>\n",
       "      <td>724.00</td>\n",
       "      <td>850.0</td>\n",
       "    </tr>\n",
       "    <tr>\n",
       "      <th>inq_last_6mths</th>\n",
       "      <td>911737.0</td>\n",
       "      <td>0.450582</td>\n",
       "      <td>0.745594</td>\n",
       "      <td>0.0</td>\n",
       "      <td>0.00</td>\n",
       "      <td>0.0</td>\n",
       "      <td>1.00</td>\n",
       "      <td>6.0</td>\n",
       "    </tr>\n",
       "    <tr>\n",
       "      <th>mths_since_last_delinq</th>\n",
       "      <td>433539.0</td>\n",
       "      <td>34.922791</td>\n",
       "      <td>21.852483</td>\n",
       "      <td>0.0</td>\n",
       "      <td>17.00</td>\n",
       "      <td>32.0</td>\n",
       "      <td>50.00</td>\n",
       "      <td>195.0</td>\n",
       "    </tr>\n",
       "    <tr>\n",
       "      <th>revol_bal</th>\n",
       "      <td>911737.0</td>\n",
       "      <td>17231.894560</td>\n",
       "      <td>23618.181163</td>\n",
       "      <td>0.0</td>\n",
       "      <td>5973.00</td>\n",
       "      <td>11631.0</td>\n",
       "      <td>21019.00</td>\n",
       "      <td>2559552.0</td>\n",
       "    </tr>\n",
       "    <tr>\n",
       "      <th>revol_util</th>\n",
       "      <td>910833.0</td>\n",
       "      <td>48.155078</td>\n",
       "      <td>24.821209</td>\n",
       "      <td>0.0</td>\n",
       "      <td>28.90</td>\n",
       "      <td>47.4</td>\n",
       "      <td>67.00</td>\n",
       "      <td>191.0</td>\n",
       "    </tr>\n",
       "    <tr>\n",
       "      <th>total_acc</th>\n",
       "      <td>911737.0</td>\n",
       "      <td>22.959383</td>\n",
       "      <td>11.861111</td>\n",
       "      <td>2.0</td>\n",
       "      <td>14.00</td>\n",
       "      <td>21.0</td>\n",
       "      <td>29.00</td>\n",
       "      <td>165.0</td>\n",
       "    </tr>\n",
       "    <tr>\n",
       "      <th>avg_cur_bal</th>\n",
       "      <td>911689.0</td>\n",
       "      <td>13630.347869</td>\n",
       "      <td>16728.755863</td>\n",
       "      <td>0.0</td>\n",
       "      <td>3051.00</td>\n",
       "      <td>7235.0</td>\n",
       "      <td>18877.00</td>\n",
       "      <td>752994.0</td>\n",
       "    </tr>\n",
       "    <tr>\n",
       "      <th>chargeoff_within_12_mths</th>\n",
       "      <td>911737.0</td>\n",
       "      <td>0.007605</td>\n",
       "      <td>0.097275</td>\n",
       "      <td>0.0</td>\n",
       "      <td>0.00</td>\n",
       "      <td>0.0</td>\n",
       "      <td>0.00</td>\n",
       "      <td>9.0</td>\n",
       "    </tr>\n",
       "    <tr>\n",
       "      <th>30+ Delinquent</th>\n",
       "      <td>911737.0</td>\n",
       "      <td>0.027425</td>\n",
       "      <td>0.163317</td>\n",
       "      <td>0.0</td>\n",
       "      <td>0.00</td>\n",
       "      <td>0.0</td>\n",
       "      <td>0.00</td>\n",
       "      <td>1.0</td>\n",
       "    </tr>\n",
       "  </tbody>\n",
       "</table>\n",
       "</div>"
      ],
      "text/plain": [
       "                             count          mean           std    min  \\\n",
       "dti                       910401.0     19.637414     17.711089    0.0   \n",
       "delinq_2yrs               911737.0      0.290833      0.850977    0.0   \n",
       "fico_range_low            911737.0    702.182378     34.343632  660.0   \n",
       "fico_range_high           911737.0    706.182657     34.344794  664.0   \n",
       "inq_last_6mths            911737.0      0.450582      0.745594    0.0   \n",
       "mths_since_last_delinq    433539.0     34.922791     21.852483    0.0   \n",
       "revol_bal                 911737.0  17231.894560  23618.181163    0.0   \n",
       "revol_util                910833.0     48.155078     24.821209    0.0   \n",
       "total_acc                 911737.0     22.959383     11.861111    2.0   \n",
       "avg_cur_bal               911689.0  13630.347869  16728.755863    0.0   \n",
       "chargeoff_within_12_mths  911737.0      0.007605      0.097275    0.0   \n",
       "30+ Delinquent            911737.0      0.027425      0.163317    0.0   \n",
       "\n",
       "                              25%      50%       75%        max  \n",
       "dti                         12.06     18.2     25.19      999.0  \n",
       "delinq_2yrs                  0.00      0.0      0.00       58.0  \n",
       "fico_range_low             675.00    695.0    720.00      845.0  \n",
       "fico_range_high            679.00    699.0    724.00      850.0  \n",
       "inq_last_6mths               0.00      0.0      1.00        6.0  \n",
       "mths_since_last_delinq      17.00     32.0     50.00      195.0  \n",
       "revol_bal                 5973.00  11631.0  21019.00  2559552.0  \n",
       "revol_util                  28.90     47.4     67.00      191.0  \n",
       "total_acc                   14.00     21.0     29.00      165.0  \n",
       "avg_cur_bal               3051.00   7235.0  18877.00   752994.0  \n",
       "chargeoff_within_12_mths     0.00      0.0      0.00        9.0  \n",
       "30+ Delinquent               0.00      0.0      0.00        1.0  "
      ]
     },
     "execution_count": 26,
     "metadata": {},
     "output_type": "execute_result"
    }
   ],
   "source": [
    "# Missing value imputation is not needed for the XGBoost package we use. It will handle missing values automatically. \n",
    "# We just need to make sure all missing values are stored as NAN. \n",
    "final_data.describe().transpose()"
   ]
  },
  {
   "cell_type": "code",
   "execution_count": null,
   "metadata": {
    "colab": {
     "base_uri": "https://localhost:8080/",
     "height": 426
    },
    "id": "AmTLrEIAAc2O",
    "outputId": "6b7ce309-47ba-495f-c3ec-f902e213befb",
    "pycharm": {
     "is_executing": true
    }
   },
   "outputs": [],
   "source": [
    "# 999 in \"dti\" sounds like a missing value. Convert it to NAN.\n",
    "final_data['dti'].replace(999, np.NaN, inplace = True)\n",
    "final_data.describe().transpose()"
   ]
  },
  {
   "cell_type": "markdown",
   "metadata": {
    "id": "b0bvd8FIaDlg"
   },
   "source": [
    "# 5. One Hot Encoding"
   ]
  },
  {
   "cell_type": "code",
   "execution_count": null,
   "metadata": {
    "colab": {
     "base_uri": "https://localhost:8080/"
    },
    "id": "UgeIHvjCLsE9",
    "outputId": "f6b7d601-0b38-4b00-9268-89d62229c16a",
    "pycharm": {
     "is_executing": true
    }
   },
   "outputs": [],
   "source": [
    "# there is only one independent non-numerical variable we need to take care of: emp_length\n",
    "final_data.dtypes"
   ]
  },
  {
   "cell_type": "code",
   "execution_count": null,
   "metadata": {
    "colab": {
     "base_uri": "https://localhost:8080/",
     "height": 426
    },
    "id": "yPu6tJ7yUpnd",
    "outputId": "3497e434-566f-4acc-d1be-f6582e78595b",
    "pycharm": {
     "is_executing": true
    }
   },
   "outputs": [],
   "source": [
    "# check categories\n",
    "final_data[[\"emp_length\", \"id\"]].groupby([\"emp_length\"]).count()"
   ]
  },
  {
   "cell_type": "code",
   "execution_count": null,
   "metadata": {
    "id": "KX35peovVaCw",
    "pycharm": {
     "is_executing": true
    }
   },
   "outputs": [],
   "source": [
    "# we can do one-hot encoding on \"employment length\", but it is an ordinal, not categorical, variable. So we can just convert it to ordinal numbers.\n",
    "final_data['Employment_Length'] = np.nan\n",
    "final_data['Employment_Length'] = np.where(final_data.emp_length == \"< 1 year\", 0, final_data.Employment_Length)\n",
    "final_data['Employment_Length'] = np.where(final_data.emp_length == \"1 year\", 1, final_data.Employment_Length)\n",
    "final_data['Employment_Length'] = np.where(final_data.emp_length == \"2 years\", 2, final_data.Employment_Length)\n",
    "final_data['Employment_Length'] = np.where(final_data.emp_length == \"3 years\", 3, final_data.Employment_Length)\n",
    "final_data['Employment_Length'] = np.where(final_data.emp_length == \"4 years\", 4, final_data.Employment_Length)\n",
    "final_data['Employment_Length'] = np.where(final_data.emp_length == \"5 years\", 5, final_data.Employment_Length)\n",
    "final_data['Employment_Length'] = np.where(final_data.emp_length == \"6 years\", 6, final_data.Employment_Length)\n",
    "final_data['Employment_Length'] = np.where(final_data.emp_length == \"7 years\", 7, final_data.Employment_Length)\n",
    "final_data['Employment_Length'] = np.where(final_data.emp_length == \"8 years\", 8, final_data.Employment_Length)\n",
    "final_data['Employment_Length'] = np.where(final_data.emp_length == \"9 years\", 9, final_data.Employment_Length)\n",
    "final_data['Employment_Length'] = np.where(final_data.emp_length == \"10+ years\", 10, final_data.Employment_Length)"
   ]
  },
  {
   "cell_type": "code",
   "execution_count": null,
   "metadata": {
    "colab": {
     "base_uri": "https://localhost:8080/",
     "height": 426
    },
    "id": "qukagXnzW-rL",
    "outputId": "9a7f2d4d-01a2-45da-827f-6b0ee4d0dcf0",
    "pycharm": {
     "is_executing": true
    }
   },
   "outputs": [],
   "source": [
    "# check\n",
    "final_data[[\"Employment_Length\", \"id\"]].groupby([\"Employment_Length\"]).count()"
   ]
  },
  {
   "cell_type": "code",
   "execution_count": null,
   "metadata": {
    "id": "z8AtFesHOGWU",
    "pycharm": {
     "is_executing": true
    }
   },
   "outputs": [],
   "source": [
    "final_data.drop(['emp_length'], axis=1, inplace=True)"
   ]
  },
  {
   "cell_type": "markdown",
   "metadata": {
    "id": "VxFkVpV8Ophm"
   },
   "source": [
    "# 6. Normalization - not needed for tree-based models"
   ]
  },
  {
   "cell_type": "markdown",
   "metadata": {
    "id": "HRiNW1GDb8L7"
   },
   "source": [
    "# 7. Outlier treatment - not needed for tree-based models"
   ]
  },
  {
   "cell_type": "markdown",
   "metadata": {
    "id": "_aTE2HEyV3pS"
   },
   "source": [
    "# 8. Feature Engineering - not needed for this model"
   ]
  },
  {
   "cell_type": "markdown",
   "metadata": {
    "id": "nlSoBYkCZboq"
   },
   "source": [
    "\n",
    "\n",
    "\n",
    "# 9. Test-Train split"
   ]
  },
  {
   "cell_type": "code",
   "execution_count": null,
   "metadata": {
    "id": "Yw6fqomSZfLC",
    "pycharm": {
     "is_executing": true
    }
   },
   "outputs": [],
   "source": [
    "# put 30% in test. This is a random split which is not ideal. Ideally we would like to split based on another variable, for example time. \n",
    "# Note that both test and train should be unbiased samples of the whole population.\n",
    "from sklearn.model_selection import train_test_split\n",
    "train, test = train_test_split(final_data, test_size=0.3)"
   ]
  },
  {
   "cell_type": "code",
   "execution_count": null,
   "metadata": {
    "colab": {
     "base_uri": "https://localhost:8080/"
    },
    "id": "hkoZ_7lPa9l6",
    "outputId": "1d0c99da-926f-4230-cefb-9b1470f28bd3",
    "pycharm": {
     "is_executing": true
    }
   },
   "outputs": [],
   "source": [
    "# check\n",
    "train.shape"
   ]
  },
  {
   "cell_type": "code",
   "execution_count": null,
   "metadata": {
    "colab": {
     "base_uri": "https://localhost:8080/"
    },
    "id": "SlLgIlzBfkIt",
    "outputId": "de3c51d1-3178-4a67-9bbd-4a8bc657080b",
    "pycharm": {
     "is_executing": true
    }
   },
   "outputs": [],
   "source": [
    "# check - it is a good practice to compare test and train samples to make sure they are not fundamentally different. \n",
    "# If so, we will get high variance even with a non-overfitted model.\n",
    "# Here we compare bad rate in both samples.\n",
    "print (sum(train[\"30+ Delinquent\"])/len(train[\"30+ Delinquent\"]))\n",
    "print (sum(test[\"30+ Delinquent\"])/len(test[\"30+ Delinquent\"]))"
   ]
  },
  {
   "cell_type": "markdown",
   "metadata": {
    "id": "Eb4hAwiydpJ_"
   },
   "source": [
    "# 10. Feature Selection\n",
    "\n",
    "Before grid search, we should choose only a sub-sample of features that have predictive power. This will significantly increase speed of grid search, while we don't lose a lot of information. \n",
    "\n",
    "There are several ways to do feature reduction. One good approach is to buid a simple Ensemble model, and choose only features with feature importance higher than say 1%. There is no written prescription here, and it is up to modeler to choose the treshold.\n",
    "\n",
    "Note: Here we have few X variables. Feature selection is really not needed. It is done only for illustration.\n",
    "\n",
    "Note: For linear models, there are automated feature selection techniques (forward, backward, and stepwise), But even for those, it is beneficial to remove non-important features first, using this approach.\n",
    "\n",
    "Note: There are several techniques for feature selection (like for all other steps we discussed here). The discussion here is just an example."
   ]
  },
  {
   "cell_type": "code",
   "execution_count": null,
   "metadata": {
    "id": "m9bCsOuxavdp",
    "pycharm": {
     "is_executing": true
    }
   },
   "outputs": [],
   "source": [
    "# Define X and Y varibales to build the ensemble model. \n",
    "X_train = train.drop([\"id\", '30+ Delinquent'], axis = 1)\n",
    "Y_train = train['30+ Delinquent']\n",
    "\n",
    "X_test = test.drop([\"id\", '30+ Delinquent'], axis = 1)\n",
    "Y_test = test['30+ Delinquent']"
   ]
  },
  {
   "cell_type": "code",
   "execution_count": null,
   "metadata": {
    "id": "KJmeNHodib3K",
    "pycharm": {
     "is_executing": true
    }
   },
   "outputs": [],
   "source": [
    "import xgboost as xgb"
   ]
  },
  {
   "cell_type": "code",
   "execution_count": null,
   "metadata": {
    "id": "azO_55CFb0a-",
    "pycharm": {
     "is_executing": true
    }
   },
   "outputs": [],
   "source": [
    "# run XGBoost\n",
    "\n",
    "xgb_instance = xgb.XGBClassifier() # nothing inside paranthesis, meaning we are using default parameters, with 100 trees.\n",
    "\n",
    "model_for_feature_selection = xgb_instance.fit(X_train, Y_train)"
   ]
  },
  {
   "cell_type": "code",
   "execution_count": null,
   "metadata": {
    "colab": {
     "base_uri": "https://localhost:8080/",
     "height": 426
    },
    "id": "9TcYVdCYgtFd",
    "outputId": "3db87a44-1af9-4ed1-9eab-9fa41c874533",
    "pycharm": {
     "is_executing": true
    }
   },
   "outputs": [],
   "source": [
    "# check the importances - you can also use SHAP values\n",
    "feature_importance = {'Feature':X_train.columns,'Importance':model_for_feature_selection.feature_importances_}\n",
    "feature_importance = pd.DataFrame(feature_importance)\n",
    "feature_importance.sort_values(\"Importance\", inplace=True,ascending=False)\n",
    "feature_importance"
   ]
  },
  {
   "cell_type": "code",
   "execution_count": null,
   "metadata": {
    "id": "hSvfnfLHhiGH",
    "pycharm": {
     "is_executing": true
    }
   },
   "outputs": [],
   "source": [
    "# choose featires with FI higher than 1%\n",
    "final_features = feature_importance[\"Feature\"][feature_importance.Importance > 0.01]\n",
    "\n",
    "X_train = X_train[final_features]\n",
    "X_test = X_test[final_features]"
   ]
  },
  {
   "cell_type": "code",
   "execution_count": null,
   "metadata": {
    "colab": {
     "base_uri": "https://localhost:8080/",
     "height": 112
    },
    "id": "yDV3Z7BhiKJK",
    "outputId": "bf645b23-bdd4-47ed-c746-2e8dae822ad5",
    "pycharm": {
     "is_executing": true
    }
   },
   "outputs": [],
   "source": [
    "# check \n",
    "X_train.head(2)"
   ]
  },
  {
   "cell_type": "code",
   "execution_count": null,
   "metadata": {
    "colab": {
     "base_uri": "https://localhost:8080/",
     "height": 193
    },
    "id": "PtBgYoqNiVpy",
    "outputId": "22340b7c-aee5-482b-d6a8-62666ed2395e",
    "pycharm": {
     "is_executing": true
    }
   },
   "outputs": [],
   "source": [
    "# check\n",
    "test.head(2)"
   ]
  },
  {
   "cell_type": "markdown",
   "metadata": {
    "id": "wyqa1qusiy1k"
   },
   "source": [
    "# 11. Grid Search and Bias/Variance analysis"
   ]
  },
  {
   "cell_type": "code",
   "execution_count": null,
   "metadata": {
    "colab": {
     "base_uri": "https://localhost:8080/",
     "height": 488
    },
    "id": "uqLKzPbKi1RO",
    "outputId": "8a133746-90a7-48e3-f2aa-e86db9cce575",
    "pycharm": {
     "is_executing": true
    }
   },
   "outputs": [],
   "source": [
    "# Here we do grid search only on #trees, and look at the AUC as performance metric.\n",
    "\n",
    "from sklearn.metrics import roc_auc_score\n",
    "table = pd.DataFrame(columns = [\"Num Trees\", \"Learning Rate\", \"AUC Train\", \"AUC Test\"])\n",
    "\n",
    "row = 0\n",
    "for num_trees in [1, 2, 10, 20, 50, 100, 200]:\n",
    "  for LR in [0.01, 0.1]:\n",
    "    xgb_instance = xgb.XGBClassifier(n_estimators=num_trees, learning_rate = LR)\n",
    "    model = xgb_instance.fit(X_train, Y_train)\n",
    "\n",
    "    table.loc[row,\"Num Trees\"] = num_trees\n",
    "    table.loc[row,\"Learning Rate\"] = LR\n",
    "    table.loc[row,\"AUC Train\"] = roc_auc_score(train['30+ Delinquent'], model.predict_proba(X_train)[:,1])\n",
    "    table.loc[row,\"AUC Test\"] = roc_auc_score(test['30+ Delinquent'], model.predict_proba(X_test)[:,1])\n",
    "\n",
    "    row = row + 1\n",
    "\n",
    "tablex"
   ]
  },
  {
   "cell_type": "markdown",
   "metadata": {
    "id": "0AqFUfq5kSGa"
   },
   "source": [
    "# Final Model Selection \n",
    "\n",
    "The model seems stable (low variance) for all #trees, but we see almost no gain on test performance from 100 to 200 trees. We may choose to go with 100 trees and 0.1 Learning Rate.\n",
    "\n",
    "Note: Choice of best model is often a subjective decision, but we always prefer to go with simpler model if possible."
   ]
  },
  {
   "cell_type": "markdown",
   "metadata": {
    "id": "a0r8zmkLlRVY"
   },
   "source": [
    "# Build the final model"
   ]
  },
  {
   "cell_type": "code",
   "execution_count": null,
   "metadata": {
    "id": "NX-BoFzxdB3j",
    "pycharm": {
     "is_executing": true
    }
   },
   "outputs": [],
   "source": [
    "# define Dense matrix for model\n",
    "xgb_instance = xgb.XGBClassifier(n_estimators=100, learning_rate = 0.1)\n",
    "final_model = xgb_instance.fit(X_train, Y_train)"
   ]
  },
  {
   "cell_type": "code",
   "execution_count": null,
   "metadata": {
    "colab": {
     "base_uri": "https://localhost:8080/",
     "height": 394
    },
    "id": "JU8tZhQv_TDH",
    "outputId": "93cda4d2-855c-49af-9a02-494326234cdb",
    "pycharm": {
     "is_executing": true
    }
   },
   "outputs": [],
   "source": [
    "# Rank Ordering\n",
    "perf_train_data = pd.DataFrame({\"Actual\": train['30+ Delinquent'], \"Prediction\": final_model.predict_proba(X_train)[:,1]})\n",
    "quantiles = list(set(perf_train_data.Prediction.quantile([0.1, 0.2, 0.3, 0.4, 0.5, 0.6, 0.7, 0.8, 0.9])))\n",
    "quantiles.sort()\n",
    "quantiles.insert(0,0)\n",
    "quantiles.insert(len(quantiles),1)\n",
    "\n",
    "perf_train_data[\"Score Bins\"] = pd.cut(perf_train_data[\"Prediction\"], quantiles)\n",
    "stat = perf_train_data.groupby(\"Score Bins\")[\"Actual\"].agg([\"sum\", \"count\"])\n",
    "stat[\"Bad Rate\"] = stat[\"sum\"] / stat[\"count\"]\n",
    "stat"
   ]
  },
  {
   "cell_type": "code",
   "execution_count": null,
   "metadata": {
    "colab": {
     "base_uri": "https://localhost:8080/",
     "height": 337
    },
    "id": "enO4x67Gr-VC",
    "outputId": "f452fde2-940f-40a9-894f-d431cd5e3b8d",
    "pycharm": {
     "is_executing": true
    }
   },
   "outputs": [],
   "source": [
    "import matplotlib.pyplot as plt\n",
    "\n",
    "plt.plot(stat[\"Bad Rate\"])"
   ]
  },
  {
   "cell_type": "code",
   "execution_count": null,
   "metadata": {
    "colab": {
     "base_uri": "https://localhost:8080/",
     "height": 394
    },
    "id": "7gs19LnWEYqa",
    "outputId": "dc7d2b3e-7f3b-4d40-9eff-867500b4332e",
    "pycharm": {
     "is_executing": true
    }
   },
   "outputs": [],
   "source": [
    "perf_test_data = pd.DataFrame({\"Actual\": test['30+ Delinquent'], \"Prediction\": final_model.predict_proba(X_test)[:,1]})\n",
    "\n",
    "perf_test_data[\"Score Bins\"] = pd.cut(perf_test_data[\"Prediction\"], quantiles)\n",
    "stat = perf_test_data.groupby(\"Score Bins\")[\"Actual\"].agg([\"sum\", \"count\"])\n",
    "stat[\"Bad Rate\"] = stat[\"sum\"] / stat[\"count\"]\n",
    "stat"
   ]
  }
 ],
 "metadata": {
  "colab": {
   "provenance": []
  },
  "kernelspec": {
   "display_name": "PyCharm (Credit Risk Project)",
   "language": "python",
   "name": "pycharm-f9c129a3"
  },
  "language_info": {
   "codemirror_mode": {
    "name": "ipython",
    "version": 3
   },
   "file_extension": ".py",
   "mimetype": "text/x-python",
   "name": "python",
   "nbconvert_exporter": "python",
   "pygments_lexer": "ipython3",
   "version": "3.8.5"
  }
 },
 "nbformat": 4,
 "nbformat_minor": 1
}
